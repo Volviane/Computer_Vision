{
 "cells": [
  {
   "cell_type": "code",
   "execution_count": 48,
   "metadata": {},
   "outputs": [],
   "source": [
    "import numpy as np\n",
    "import matplotlib.pyplot as plt\n",
    "from sklearn.model_selection import train_test_split"
   ]
  },
  {
   "cell_type": "markdown",
   "metadata": {},
   "source": [
    "Load MNIST dataset from sklearn"
   ]
  },
  {
   "cell_type": "code",
   "execution_count": 56,
   "metadata": {},
   "outputs": [],
   "source": [
    "from sklearn.datasets import fetch_openml\n",
    "# Load data from https://www.openml.org/d/554\n",
    "X, y = fetch_openml('mnist_784', version=1, return_X_y=True)\n",
    "\n",
    "# from sklearn.datasets import fetch_mldata\n",
    "# MNIST = fetch_mldata('MNIST original', data_home='./MNIST')"
   ]
  },
  {
   "cell_type": "code",
   "execution_count": 72,
   "metadata": {},
   "outputs": [],
   "source": [
    "y = y.astype(np.int)\n",
    "X=X/255\n",
    "X_train,X_test,y_train,y_test=train_test_split(X,y,random_state=42, test_size=0.2)"
   ]
  },
  {
   "cell_type": "code",
   "execution_count": 59,
   "metadata": {},
   "outputs": [
    {
     "name": "stdout",
     "output_type": "stream",
     "text": [
      "(56000,)\n"
     ]
    }
   ],
   "source": [
    "print(y_train.shape)"
   ]
  },
  {
   "cell_type": "markdown",
   "metadata": {},
   "source": [
    "Logistic regression"
   ]
  },
  {
   "cell_type": "code",
   "execution_count": 73,
   "metadata": {},
   "outputs": [],
   "source": [
    "class SoftmaxRegression:\n",
    "    '''\n",
    "    Logistic regression for multi class\n",
    "    '''\n",
    "    \n",
    "    \n",
    "    def __init__(self, \n",
    "                 lr=0.0001, \n",
    "                 epoch=1,\n",
    "                 tolerence=10e-8,\n",
    "                 minibatchsize=30,\n",
    "                 lambd=0):\n",
    "        self.lr=lr\n",
    "        self.epoch=epoch\n",
    "        self.tolerence=tolerence\n",
    "        self.minibatchsize=minibatchsize\n",
    "        self.lambd = lambd\n",
    "        \n",
    "    def softmax(self,X,theta):\n",
    "        z = X@theta\n",
    "        z -= np.max(z)\n",
    "        return np.exp(z)/np.sum(np.exp(z), axis=1, keepdims=True)\n",
    "    \n",
    "    # compute the grandient     \n",
    "    def get_gradient(self, X, y, theta):\n",
    "        n, _ = X.shape\n",
    "        theta_wo_bias = theta.copy()\n",
    "        theta_wo_bias[0, :] = 0\n",
    "        \n",
    "        grad = (-1 / n) * X.T@(y - self.softmax(X, theta)) + self.lambd * theta_wo_bias\n",
    "        return grad\n",
    "     \n",
    "    #compute the loss\n",
    "    def loss(self, X, y, theta):\n",
    "        n, d = X.shape\n",
    "        y_hat = self.softmax(X, theta)\n",
    " \n",
    "        temp_theta = theta.copy()\n",
    "        temp_theta[0, :] = 0 # Not including bias in regularization\n",
    "       \n",
    "        loss = (-1 / n) * np.sum(y * np.log(y_hat)) \\\n",
    "                + (self.lambd/2)*np.sum(temp_theta*temp_theta)\n",
    "\n",
    "        return loss\n",
    "    \n",
    "    def one_hot_encode(self, y):\n",
    "        '''\n",
    "        one hot encode the target\n",
    "        to be able to work with softmax\n",
    "        '''\n",
    "        n = len(y)\n",
    "        # Turn y into one-hot-labels if number of classes is greater than 2\n",
    "        y_encode = np.zeros((n, self.nb_classes))\n",
    "        y_encode[range(n), y] = 1 #numpy advanced indexing\n",
    "        y = y_encode\n",
    "        return y\n",
    "   \n",
    "    #mini batch gradient descent        \n",
    "    def fit(self,X,y):\n",
    "        '''\n",
    "        This method take tha data, \n",
    "        use minibactch gradient descent to update the weight\n",
    "        and compute the coresponding cost\n",
    "        '''\n",
    "        #make a copy of our data\n",
    "        X_copy=X.copy()\n",
    "        y_copy=y.copy()\n",
    "        self.classes = np.unique(y_copy)\n",
    "        self.nb_classes = len(self.classes)\n",
    "        \n",
    "         #add the intercept column\n",
    "        intercept=np.ones((X_copy.shape[0],1))\n",
    "        X_copy=np.concatenate((intercept,X_copy),axis=1)\n",
    "        \n",
    "        \n",
    "        #initialise the weight\n",
    "        self.theta=np.zeros((X_copy.shape[1], self.nb_classes))\n",
    "        \n",
    "        # One-hot encode y\n",
    "        y_copy = self.one_hot_encode(y_copy)\n",
    "       \n",
    "        diff=1\n",
    "        current_iter=1\n",
    "        #number of minibacth\n",
    "        minibatch = int(len(X_copy)/self.minibatchsize)\n",
    "        while (diff >= self.tolerence) and (current_iter<self.epoch) :\n",
    "            prev_theta=self.theta.copy()\n",
    "            random_vector=np.random.permutation(X_copy.shape[0])\n",
    "            X_cop=X_copy[random_vector]\n",
    "            y_cop=y_copy[random_vector]\n",
    "            for j in range(minibatch):\n",
    "                X_=X_cop[j*self.minibatchsize:(j+1)*self.minibatchsize]\n",
    "                y_=y_cop[j*self.minibatchsize:(j+1)*self.minibatchsize]\n",
    "                #compute the gradient\n",
    "                grad = self.get_gradient(X_, y_, self.theta)\n",
    "                #update the weight\n",
    "                self.theta = self.theta - self.lr*grad \n",
    "            cur_theta=self.theta.copy()\n",
    "            diff=np.linalg.norm(prev_theta - cur_theta)\n",
    "            current_iter+=1\n",
    "            #print('the loss function is ',self.loss(X_,y_,self.theta))\n",
    "\n",
    "    def predict_proba(self, X):\n",
    "        \"\"\"\n",
    "        Returns probability of predictions.\n",
    "        \"\"\"\n",
    "        X_copy = X.copy()\n",
    "        intercept=np.ones((X_copy.shape[0],1))\n",
    "        X_copy=np.concatenate((intercept,X_copy), axis=1)\n",
    "\n",
    "        return self.softmax(X_copy, self.theta) \n",
    "    \n",
    "    def predict(self, X):\n",
    "        '''\n",
    "            gives the prediction using the softmax function\n",
    "        '''\n",
    "        prob = self.predict_proba(X)\n",
    "        y_predict = np.argmax(prob, axis=1)\n",
    "        return y_predict     \n",
    "    "
   ]
  },
  {
   "cell_type": "code",
   "execution_count": 74,
   "metadata": {},
   "outputs": [],
   "source": [
    "logisticReg = SoftmaxRegression(\n",
    "                            lr=0.001, \n",
    "                             epoch=20,\n",
    "                             tolerence=10e-8,\n",
    "                             minibatchsize=30,\n",
    "                             lambd=0\n",
    "                            )"
   ]
  },
  {
   "cell_type": "code",
   "execution_count": 75,
   "metadata": {},
   "outputs": [],
   "source": [
    "logisticReg.fit(X_train,y_train)"
   ]
  },
  {
   "cell_type": "code",
   "execution_count": 76,
   "metadata": {},
   "outputs": [],
   "source": [
    "predict=logisticReg.predict(X_test)"
   ]
  },
  {
   "cell_type": "code",
   "execution_count": 79,
   "metadata": {},
   "outputs": [
    {
     "data": {
      "text/plain": [
       "88.94285714285715"
      ]
     },
     "execution_count": 79,
     "metadata": {},
     "output_type": "execute_result"
    }
   ],
   "source": [
    "(np.sum(predict==y_test)/len(y_test))*100"
   ]
  },
  {
   "cell_type": "code",
   "execution_count": 78,
   "metadata": {},
   "outputs": [
    {
     "data": {
      "text/plain": [
       "array([8, 4, 5, 7, 7, 0, 6, 2, 7, 4, 3, 9, 7, 8, 2, 5, 9, 1, 7, 8, 0, 0,\n",
       "       0, 3, 6, 3, 6, 1, 6, 9, 7, 6, 0, 8, 5, 5, 2, 9, 1, 6, 4, 9, 4, 7,\n",
       "       4, 5, 8, 7, 3, 9, 2, 0, 6, 8, 5, 3, 1, 4, 0, 7, 1, 7, 5, 3, 9, 5,\n",
       "       7, 9, 6, 0, 1, 7, 3, 0, 4, 3, 4, 2, 6, 6, 6, 6, 8, 2, 2, 1, 5, 3,\n",
       "       8, 8, 7, 5, 1, 8, 2, 0, 8, 7, 3, 0])"
      ]
     },
     "execution_count": 78,
     "metadata": {},
     "output_type": "execute_result"
    }
   ],
   "source": [
    "predict[:100]"
   ]
  },
  {
   "cell_type": "code",
   "execution_count": 41,
   "metadata": {},
   "outputs": [
    {
     "data": {
      "text/plain": [
       "array([[5],\n",
       "       [0],\n",
       "       [4],\n",
       "       ...,\n",
       "       [4],\n",
       "       [5],\n",
       "       [6]])"
      ]
     },
     "execution_count": 41,
     "metadata": {},
     "output_type": "execute_result"
    }
   ],
   "source": [
    "y_"
   ]
  },
  {
   "cell_type": "code",
   "execution_count": 45,
   "metadata": {},
   "outputs": [
    {
     "data": {
      "text/plain": [
       "<matplotlib.image.AxesImage at 0x7f7fd84266a0>"
      ]
     },
     "execution_count": 45,
     "metadata": {},
     "output_type": "execute_result"
    },
    {
     "data": {
      "image/png": "[encoded data removed]",
      "text/plain": [
       "<Figure size 432x288 with 1 Axes>"
      ]
     },
     "metadata": {
      "needs_background": "light"
     },
     "output_type": "display_data"
    }
   ],
   "source": [
    "plt.imshow(X[0].reshape(28,28))"
   ]
  },
  {
   "cell_type": "code",
   "execution_count": null,
   "metadata": {},
   "outputs": [],
   "source": []
  }
 ],
 "metadata": {
  "kernelspec": {
   "display_name": "Python 3",
   "language": "python",
   "name": "python3"
  },
  "language_info": {
   "codemirror_mode": {
    "name": "ipython",
    "version": 3
   },
   "file_extension": ".py",
   "mimetype": "text/x-python",
   "name": "python",
   "nbconvert_exporter": "python",
   "pygments_lexer": "ipython3",
   "version": "3.7.3"
  }
 },
 "nbformat": 4,
 "nbformat_minor": 2
}
